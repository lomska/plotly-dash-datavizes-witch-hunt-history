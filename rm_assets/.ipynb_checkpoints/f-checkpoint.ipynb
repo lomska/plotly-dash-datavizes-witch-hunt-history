{
 "cells": [
  {
   "cell_type": "markdown",
   "id": "3a46ad82",
   "metadata": {},
   "source": [
    "<p style=\"font-family:Castellar;font-size:45px;color:#92361f;font-weight:bold;padding-top:30px;padding-bottom:0px;margin-top:0px;margin-bottom:20px;text-align:left;\"> European Witch Trials<br> <br>Charted and Animated <br> <br> Castellar</p>\n",
    "\n",
    "<p style=\"font-family:Baskerville Old Face;font-size:45px;color:#92361f;font-weight:bold;padding-top:30px;padding-bottom:0px;margin-top:0px;margin-bottom:20px;text-align:left;\"> European Witch Trials<br> <br> Baskerville <br> <br>Charted and Animated</p>\n",
    "\n",
    "<p style=\"font-family:Californian FB;font-size:45px;color:#92361f;font-weight:bold;padding-top:30px;padding-bottom:0px;margin-top:0px;margin-bottom:20px;text-align:left;\"> European Witch Trials<br> <br>Californian <br> <br>Charted and Animated</p>\n",
    "\n",
    "<p style=\"font-family:Felix Titling;font-size:45px;color:#92361f;font-weight:bold;padding-top:30px;padding-bottom:0px;margin-top:0px;margin-bottom:20px;text-align:left;\"> European Witch Trials<br> <br>Felix <br> <br>Charted and Animated<br></p>\n",
    "\n",
    "<p style=\"font-family:Century Schoolbook;font-size:45px;color:#92361f;font-weight:bold;padding-top:30px;padding-bottom:0px;margin-top:0px;margin-bottom:20px;text-align:left;\"> European Witch Trials<br> <br> Century<br> <br>Charted and Animated</p>\n",
    "\n",
    "<p style=\"font-family:Centaur;font-size:45px;color:#92361f;font-weight:bold;padding-top:30px;padding-bottom:0px;margin-top:0px;margin-bottom:20px;text-align:left;\"> European Witch Trials<br> <br>Centaur <br> <br>Charted and Animated<br></p>\n",
    "\n",
    "<p style=\"font-family:Colonna MT;font-size:45px;color:#92361f;font-weight:bold;padding-top:30px;padding-bottom:0px;margin-top:0px;margin-bottom:20px;text-align:left;\"> European Witch Trials<br> <br> Colonna<br> <br>Charted and Animated<br></p>\n",
    "\n",
    "<p style=\"font-family:Garamond;font-size:45px;color:#92361f;font-weight:bold;padding-top:30px;padding-bottom:0px;margin-top:0px;margin-bottom:20px;text-align:left;\"> European Witch Trials<br> <br> Garamond<br> <br>Charted and Animated<br></p>\n",
    "\n",
    "<p style=\"font-family:Goudy Old Style;font-size:45px;color:#92361f;font-weight:bold;padding-top:30px;padding-bottom:0px;margin-top:0px;margin-bottom:20px;text-align:left;\"> European Witch Trials<br> <br> Goudy Old Style <br> <br>Charted and Animated<br></p>\n",
    "\n",
    "<p style=\"font-family:Lucida Bright;font-size:45px;color:#92361f;font-weight:bold;padding-top:30px;padding-bottom:0px;margin-top:0px;margin-bottom:20px;text-align:left;\"> European Witch Trials<br> <br> Lucida Bright<br> <br>Charted and Animated<br></p>\n",
    "\n",
    "<p style=\"font-family:Perpetua Titling MT;font-size:45px;color:#92361f;font-weight:bold;padding-top:30px;padding-bottom:0px;margin-top:0px;margin-bottom:20px;text-align:left;\"> European Witch Trials<br> <br> Perpetua Titling MT<br> <br>Charted and Animated<br></p>\n",
    "\n",
    "<p style=\"font-family:Poor Richard;font-size:45px;color:#92361f;font-weight:bold;padding-top:30px;padding-bottom:0px;margin-top:0px;margin-bottom:20px;text-align:left;\"> European Witch Trials<br>  <br>Poor Richard<br> <br>Charted and Animated<br></p>\n",
    "\n",
    "<p style=\"font-family:Rage Italic;font-size:45px;color:#92361f;font-weight:bold;padding-top:30px;padding-bottom:0px;margin-top:0px;margin-bottom:20px;text-align:left;\"> European Witch Trials<br> <br> Rage Italic<br> <br>Charted and Animated<br></p>"
   ]
  }
 ],
 "metadata": {
  "kernelspec": {
   "display_name": "Python 3 (ipykernel)",
   "language": "python",
   "name": "python3"
  },
  "language_info": {
   "codemirror_mode": {
    "name": "ipython",
    "version": 3
   },
   "file_extension": ".py",
   "mimetype": "text/x-python",
   "name": "python",
   "nbconvert_exporter": "python",
   "pygments_lexer": "ipython3",
   "version": "3.8.5"
  }
 },
 "nbformat": 4,
 "nbformat_minor": 5
}
